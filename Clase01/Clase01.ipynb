{
 "cells": [
  {
   "cell_type": "markdown",
   "id": "f17d27d1-3595-497e-ba15-df5349969788",
   "metadata": {},
   "source": [
    "# Práctica Clase 1 "
   ]
  },
  {
   "cell_type": "markdown",
   "id": "3ce0555a-9e13-455a-956b-9136e73fe80b",
   "metadata": {
    "tags": []
   },
   "source": [
    "1) Crear una función capaz de convertir números enteros de base 10 a base 2. Debe recibir como parámetro el número a convertir<br>\n",
    "Consideraciones:<br> \n",
    "a. Tratar de resolverlo sin usar la función format(nro,\"b\")<br>\n",
    "b. El pdf \"conversion-de-decimal-a-binario.pdf\" puede servir de ayuda."
   ]
  },
  {
   "cell_type": "code",
   "execution_count": 19,
   "id": "ecc5666e-d4dc-46dc-9862-64eec167cfcd",
   "metadata": {
    "tags": []
   },
   "outputs": [],
   "source": [
    "def NumeroBinario(numero):\n",
    "    '''\n",
    "    Esta función recibe como parámetro un número entero mayor ó igual a cero y lo devuelve en su \n",
    "    representación binaria. Debe recibir y devolver un valor de tipo entero.\n",
    "    En caso de que el parámetro no sea de tipo entero y mayor a -1 retorna nulo.\n",
    "    '''\n",
    "    if numero == 0:\n",
    "        return 0\n",
    "    \n",
    "    if not numero >= 0 and isinstance(numero, int):\n",
    "        return None\n",
    "    \n",
    "    else:\n",
    "        lista = []\n",
    "        resto = 0\n",
    "        # Conversión de Deciaml a Binario        \n",
    "        while numero >= resto:\n",
    "            resto = numero % 2\n",
    "            numero = numero // 2\n",
    "            lista.insert(0, resto)\n",
    "            \n",
    "        # Conversión de la lista a strings\n",
    "        resultado = int(\"\".join(map(str,lista))) \n",
    "        \n",
    "        return resultado"
   ]
  },
  {
   "cell_type": "code",
   "execution_count": null,
   "id": "ae938653-0a85-4510-8acc-9b7f88317082",
   "metadata": {},
   "outputs": [],
   "source": [
    "def NumeroBinario(numero):\n",
    "    '''\n",
    "    Esta función recibe como parámetro un número entero mayor ó igual a cero y lo devuelve en su \n",
    "    representación binaria. Debe recibir y devolver un valor de tipo entero.\n",
    "    En caso de que el parámetro no sea de tipo entero y mayor a -1 retorna nulo.\n",
    "    '''\n",
    "    binario = '0.'\n",
    "    if not isinstance(numero, int) and numero >= 0:\n",
    "        return -1\n",
    "    while numero == 1:\n",
    "        if numero % 2 == 1:\n",
    "            binario += '1'\n",
    "        else:\n",
    "            binario += '0'\n",
    "        numero = numero // 2\n",
    "        \n",
    "    return binario"
   ]
  },
  {
   "cell_type": "code",
   "execution_count": 20,
   "id": "31ce8f8e-eedd-4e9c-ae6c-2bc64afb12d2",
   "metadata": {
    "tags": []
   },
   "outputs": [
    {
     "data": {
      "text/plain": [
       "11101"
      ]
     },
     "execution_count": 20,
     "metadata": {},
     "output_type": "execute_result"
    }
   ],
   "source": [
    "#Ejemplo:\n",
    "NumeroBinario(29)"
   ]
  },
  {
   "cell_type": "markdown",
   "id": "f067f781-bbe1-4d4a-84c8-c3b1ff755ac4",
   "metadata": {},
   "source": [
    "2) Convertir de decimal a binario las fracciones 1/2, 1/3, 1/4, 1/5, 1/6, 1/7, 1/8, 1/9. Luego analizar los resultados y observar qué particularidad se encuentra en los mismos. Se puede usar Python o una calculadora, lo importante es ver si hay algo que podemos notar..."
   ]
  },
  {
   "cell_type": "markdown",
   "id": "0a7a8284-2366-4eea-8b6b-3e22895bc573",
   "metadata": {},
   "source": [
    "Salida esperada:\n",
    "* Fraccion 1 / 2 :  0.5  y En binario:  0.1\n",
    "* Fraccion 1 / 3 :  0.3333333333333333  y En binario:  0.010101010101010101010101\n",
    "* Fraccion 1 / 4 :  0.25  y En binario:  0.01\n",
    "* Fraccion 1 / 5 :  0.2  y En binario:  0.001100110011001100110011\n",
    "* Fraccion 1 / 6 :  0.16666666666666666  y En binario:  0.001010101010101010101010\n",
    "* Fraccion 1 / 7 :  0.14285714285714285  y En binario:  0.001001001001001001001001\n",
    "* Fraccion 1 / 8 :  0.125  y En binario:  0.001\n",
    "* Fraccion 1 / 9 :  0.1111111111111111  y En binario:  0.000111000111000111000111"
   ]
  },
  {
   "cell_type": "code",
   "execution_count": 21,
   "id": "9e6b5378-f741-4aff-bebe-3d6b3c5c7f0f",
   "metadata": {
    "tags": []
   },
   "outputs": [],
   "source": [
    "def NumeroBinario_Fraccion(fraccion):\n",
    "    \n",
    "    if not isinstance(fraccion, float):\n",
    "        return None\n",
    "    \n",
    "    binario = '0.'\n",
    "    \n",
    "    while fraccion < 2:\n",
    "        fraccion *= 2\n",
    "        \n",
    "        if fraccion < 1:\n",
    "            binario += str(0)\n",
    "        elif fraccion > 1:\n",
    "            binario += str(1)\n",
    "            fraccion -= 1\n",
    "        else:\n",
    "            binario += str(1)\n",
    "            break\n",
    "    return binario"
   ]
  },
  {
   "cell_type": "code",
   "execution_count": 25,
   "id": "6c7ff27f-b3f1-4271-8446-c60ab06957af",
   "metadata": {
    "tags": []
   },
   "outputs": [
    {
     "data": {
      "text/plain": [
       "'0.1'"
      ]
     },
     "execution_count": 25,
     "metadata": {},
     "output_type": "execute_result"
    }
   ],
   "source": [
    "NumeroBinario_Fraccion(1.51)"
   ]
  },
  {
   "cell_type": "code",
   "execution_count": null,
   "id": "f2bea6c3-f821-4b8a-a2f7-27289f936d43",
   "metadata": {},
   "outputs": [],
   "source": []
  },
  {
   "cell_type": "code",
   "execution_count": null,
   "id": "3670c2a7-892c-4c25-9b43-e12bbcb5aeb7",
   "metadata": {},
   "outputs": [],
   "source": []
  }
 ],
 "metadata": {
  "kernelspec": {
   "display_name": "Python 3 (ipykernel)",
   "language": "python",
   "name": "python3"
  },
  "language_info": {
   "codemirror_mode": {
    "name": "ipython",
    "version": 3
   },
   "file_extension": ".py",
   "mimetype": "text/x-python",
   "name": "python",
   "nbconvert_exporter": "python",
   "pygments_lexer": "ipython3",
   "version": "3.10.7"
  }
 },
 "nbformat": 4,
 "nbformat_minor": 5
}
