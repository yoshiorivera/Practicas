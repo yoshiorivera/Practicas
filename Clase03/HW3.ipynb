{
  "cells": [
    {
      "cell_type": "markdown",
      "metadata": {
        "id": "dX8xyntiVg6Y"
      },
      "source": [
        "# Práctica Clase 3"
      ]
    },
    {
      "cell_type": "markdown",
      "metadata": {
        "id": "PYD3INciVg6c"
      },
      "source": [
        "## Numpy"
      ]
    },
    {
      "cell_type": "code",
      "execution_count": 1,
      "metadata": {
        "id": "QHlLlvYeVg6d"
      },
      "outputs": [],
      "source": [
        "import numpy as np"
      ]
    },
    {
      "cell_type": "markdown",
      "metadata": {
        "id": "U6C7akQcVg6e"
      },
      "source": [
        "**Ejercicio 1**: Responder las siguientes preguntas:\n",
        "* ¿Qué operaciones se pueden hacer tanto en un arreglo de Numpy como en una lista? Dar un ejemplo en una celda.\n",
        "* ¿Qué operaciones se pueden hacer en un arreglo de Numpy pero NO en una lista? Explorar algunas opciones y dar un ejemplo en una celda.\n",
        "* ¿Cuál es la diferencia entre un arreglo de forma -shape- (n,), (n,1) y (1,n)? Pueden crear arreglos para intentar responder esa pregunta."
      ]
    },
    {
      "cell_type": "markdown",
      "metadata": {
        "id": "4H4oH_AwVg6f"
      },
      "source": [
        "A partir de una lista podemos crear un arreglo de numpy"
      ]
    },
    {
      "cell_type": "code",
      "execution_count": null,
      "metadata": {
        "id": "lZV6O0wYVg6f",
        "outputId": "39a7c8e1-2a7e-4a24-894a-a0bbf91e0889"
      },
      "outputs": [
        {
          "name": "stdout",
          "output_type": "stream",
          "text": [
            "[0, 1, 2, 3, 4, 5]\n",
            "[0 1 2 3 4 5]\n"
          ]
        }
      ],
      "source": [
        "lista = [0,1,2,3,4,5]\n",
        "arreglo = np.array(lista)\n",
        "print(lista)\n",
        "print(arreglo)"
      ]
    },
    {
      "cell_type": "markdown",
      "metadata": {
        "id": "HuuWhOMXVg6g"
      },
      "source": [
        "Pero para algunos casos numpy tiene funciones que crean listas más rápidamente."
      ]
    },
    {
      "cell_type": "code",
      "execution_count": null,
      "metadata": {
        "id": "Atr3GfQCVg6h",
        "outputId": "80331aa7-cdb1-4eca-bc97-fb0b707605eb"
      },
      "outputs": [
        {
          "name": "stdout",
          "output_type": "stream",
          "text": [
            "[0 1 2 3 4 5 6 7]\n"
          ]
        }
      ],
      "source": [
        "arreglo = np.arange(8)\n",
        "print(arreglo)"
      ]
    },
    {
      "cell_type": "markdown",
      "metadata": {
        "id": "lDrCjfFdVg6h"
      },
      "source": [
        "Algunas cosas que se pueden hacer con arreglos pero no con las listas:\n",
        "\n",
        "1. Sumarle un mismo elemento"
      ]
    },
    {
      "cell_type": "code",
      "execution_count": null,
      "metadata": {
        "id": "MxSbeYYsVg6i",
        "outputId": "1cd67f75-ac01-45a8-ebb3-d8e7480607ad"
      },
      "outputs": [
        {
          "ename": "TypeError",
          "evalue": "can only concatenate list (not \"int\") to list",
          "output_type": "error",
          "traceback": [
            "\u001b[1;31m---------------------------------------------------------------------------\u001b[0m",
            "\u001b[1;31mTypeError\u001b[0m                                 Traceback (most recent call last)",
            "\u001b[1;32m~\\AppData\\Local\\Temp/ipykernel_23612/807820878.py\u001b[0m in \u001b[0;36m<module>\u001b[1;34m\u001b[0m\n\u001b[1;32m----> 1\u001b[1;33m \u001b[0mlista\u001b[0m \u001b[1;33m+\u001b[0m \u001b[1;36m1\u001b[0m\u001b[1;33m\u001b[0m\u001b[1;33m\u001b[0m\u001b[0m\n\u001b[0m",
            "\u001b[1;31mTypeError\u001b[0m: can only concatenate list (not \"int\") to list"
          ]
        }
      ],
      "source": [
        "lista + 1"
      ]
    },
    {
      "cell_type": "code",
      "execution_count": null,
      "metadata": {
        "id": "ndFjPgQJVg6i"
      },
      "outputs": [],
      "source": [
        "arreglo = arreglo + 1"
      ]
    },
    {
      "cell_type": "code",
      "execution_count": null,
      "metadata": {
        "id": "MzF8HOOmVg6i",
        "outputId": "f7fb40dc-5bba-46a6-a850-b17850b1e2ed"
      },
      "outputs": [
        {
          "data": {
            "text/plain": [
              "array([1, 2, 3, 4, 5, 6, 7, 8])"
            ]
          },
          "execution_count": 7,
          "metadata": {},
          "output_type": "execute_result"
        }
      ],
      "source": [
        "arreglo"
      ]
    },
    {
      "cell_type": "markdown",
      "metadata": {
        "id": "fvxeeM75Vg6j"
      },
      "source": [
        "2. Elevar al cuadrado todos los elementos"
      ]
    },
    {
      "cell_type": "code",
      "execution_count": null,
      "metadata": {
        "id": "OQDfAsVsVg6j",
        "outputId": "a5a4e18d-31cd-4ee1-f48b-f73e7ef98394"
      },
      "outputs": [
        {
          "ename": "TypeError",
          "evalue": "unsupported operand type(s) for ** or pow(): 'list' and 'int'",
          "output_type": "error",
          "traceback": [
            "\u001b[1;31m---------------------------------------------------------------------------\u001b[0m",
            "\u001b[1;31mTypeError\u001b[0m                                 Traceback (most recent call last)",
            "\u001b[1;32m~\\AppData\\Local\\Temp/ipykernel_23612/1350568419.py\u001b[0m in \u001b[0;36m<module>\u001b[1;34m\u001b[0m\n\u001b[1;32m----> 1\u001b[1;33m \u001b[0mlista\u001b[0m\u001b[1;33m**\u001b[0m\u001b[1;36m2\u001b[0m\u001b[1;33m\u001b[0m\u001b[1;33m\u001b[0m\u001b[0m\n\u001b[0m",
            "\u001b[1;31mTypeError\u001b[0m: unsupported operand type(s) for ** or pow(): 'list' and 'int'"
          ]
        }
      ],
      "source": [
        "lista**2"
      ]
    },
    {
      "cell_type": "code",
      "execution_count": null,
      "metadata": {
        "id": "OyXoajH0Vg6j",
        "outputId": "59264d4f-0f57-4fd7-8229-6f21d7d810dc"
      },
      "outputs": [
        {
          "data": {
            "text/plain": [
              "array([ 1,  4,  9, 16, 25, 36, 49, 64], dtype=int32)"
            ]
          },
          "execution_count": 9,
          "metadata": {},
          "output_type": "execute_result"
        }
      ],
      "source": [
        "arreglo**2"
      ]
    },
    {
      "cell_type": "markdown",
      "metadata": {
        "id": "G3uQMILvVg6j"
      },
      "source": [
        "3. Sumar todos los elementos"
      ]
    },
    {
      "cell_type": "code",
      "execution_count": null,
      "metadata": {
        "id": "3WmhbikpVg6k",
        "outputId": "454dcdf0-c863-4ffb-d6a8-152173009974"
      },
      "outputs": [
        {
          "name": "stdout",
          "output_type": "stream",
          "text": [
            "36\n"
          ]
        },
        {
          "ename": "AttributeError",
          "evalue": "'list' object has no attribute 'sum'",
          "output_type": "error",
          "traceback": [
            "\u001b[1;31m---------------------------------------------------------------------------\u001b[0m",
            "\u001b[1;31mAttributeError\u001b[0m                            Traceback (most recent call last)",
            "\u001b[1;32m~\\AppData\\Local\\Temp/ipykernel_23612/1020896401.py\u001b[0m in \u001b[0;36m<module>\u001b[1;34m\u001b[0m\n\u001b[0;32m      1\u001b[0m \u001b[0mprint\u001b[0m\u001b[1;33m(\u001b[0m\u001b[0marreglo\u001b[0m\u001b[1;33m.\u001b[0m\u001b[0msum\u001b[0m\u001b[1;33m(\u001b[0m\u001b[1;33m)\u001b[0m\u001b[1;33m)\u001b[0m\u001b[1;33m\u001b[0m\u001b[1;33m\u001b[0m\u001b[0m\n\u001b[1;32m----> 2\u001b[1;33m \u001b[0mprint\u001b[0m\u001b[1;33m(\u001b[0m\u001b[0mlista\u001b[0m\u001b[1;33m.\u001b[0m\u001b[0msum\u001b[0m\u001b[1;33m(\u001b[0m\u001b[1;33m)\u001b[0m\u001b[1;33m)\u001b[0m\u001b[1;33m\u001b[0m\u001b[1;33m\u001b[0m\u001b[0m\n\u001b[0m",
            "\u001b[1;31mAttributeError\u001b[0m: 'list' object has no attribute 'sum'"
          ]
        }
      ],
      "source": [
        "print(arreglo.sum())\n",
        "print(lista.sum())"
      ]
    },
    {
      "cell_type": "code",
      "execution_count": null,
      "metadata": {
        "id": "GVwR74-oVg6k",
        "outputId": "85712301-d067-4fb9-a331-c96819cfe12a"
      },
      "outputs": [
        {
          "name": "stdout",
          "output_type": "stream",
          "text": [
            "15\n"
          ]
        }
      ],
      "source": [
        "n = 0\n",
        "for e in lista:\n",
        "    n = n + e\n",
        "print(n)"
      ]
    },
    {
      "cell_type": "code",
      "execution_count": null,
      "metadata": {
        "id": "U5UCMsYLVg6k",
        "outputId": "703693bf-24e7-492b-b93d-1c6394ffa674"
      },
      "outputs": [
        {
          "data": {
            "text/plain": [
              "(6,)"
            ]
          },
          "execution_count": 12,
          "metadata": {},
          "output_type": "execute_result"
        }
      ],
      "source": [
        "arreglo.shape"
      ]
    },
    {
      "cell_type": "code",
      "execution_count": null,
      "metadata": {
        "id": "uGUJfqbwVg6l",
        "outputId": "8852ad5f-a4c8-4186-d60a-673b6fa2f447"
      },
      "outputs": [
        {
          "name": "stdout",
          "output_type": "stream",
          "text": [
            "[[1 2 3 4 5 6]\n",
            " [1 2 3 4 5 6]\n",
            " [1 2 3 4 5 6]] . Shape = (3, 6) \n",
            "\n"
          ]
        }
      ],
      "source": [
        "arreglo = np.array([[1,2,3,4,5,6],[1,2,3,4,5,6],[1,2,3,4,5,6]]) #notar los corchetes extras\n",
        "print(arreglo,'. Shape =', arreglo.shape, \"\\n\")"
      ]
    },
    {
      "cell_type": "code",
      "execution_count": null,
      "metadata": {
        "id": "7e1g2K9GVg6l",
        "outputId": "7fcf34e6-19fc-4d96-dfc5-012576e958b7"
      },
      "outputs": [
        {
          "name": "stdout",
          "output_type": "stream",
          "text": [
            "[[1 2 3 4 5 6]] . Shape = (1, 6) \n",
            "\n"
          ]
        }
      ],
      "source": [
        "arreglo = np.array([[1,2,3,4,5,6]]) #notar los corchetes extras\n",
        "print(arreglo,'. Shape =', arreglo.shape, \"\\n\")"
      ]
    },
    {
      "cell_type": "code",
      "execution_count": null,
      "metadata": {
        "id": "oeQnavXlVg6l",
        "outputId": "263e0947-ab01-485a-96a8-4345a78756c9"
      },
      "outputs": [
        {
          "name": "stdout",
          "output_type": "stream",
          "text": [
            "[[1]\n",
            " [2]\n",
            " [3]\n",
            " [4]\n",
            " [5]\n",
            " [6]] . Shape = (6, 1) \n",
            "\n"
          ]
        }
      ],
      "source": [
        "arreglo = np.array([[1,2,3,4,5,6]]).T #notar los corchetes extras\n",
        "print(arreglo,'. Shape =', arreglo.shape, \"\\n\")"
      ]
    },
    {
      "cell_type": "code",
      "execution_count": null,
      "metadata": {
        "id": "QIhBepqgVg6l",
        "outputId": "fd5ca5cc-5b90-41ce-b564-c0cf20183bd5"
      },
      "outputs": [
        {
          "name": "stdout",
          "output_type": "stream",
          "text": [
            "Arreglo de (n,)\n",
            "[1 2 3 4 5 6] . Shape = (6,) \n",
            "\n",
            "Arreglo de (2,n)\n",
            "[[1 2 3 4 5 6]\n",
            " [1 2 3 4 5 6]] . Shape = (2, 6) \n",
            "\n",
            "Arreglo de (n,1)\n",
            "[[1]\n",
            " [2]\n",
            " [3]\n",
            " [4]\n",
            " [5]\n",
            " [6]] . Shape = (6, 1) \n",
            "\n",
            "[[1]\n",
            " [2]\n",
            " [3]\n",
            " [4]\n",
            " [5]\n",
            " [6]] . Shape = (6, 1)\n"
          ]
        }
      ],
      "source": [
        "#¿Cuál es la diferencia entre un arreglo de forma -shape- (n,), (n,1) y (1,n)?\n",
        "\n",
        "print('Arreglo de (n,)')\n",
        "arreglo = np.array([1,2,3,4,5,6])\n",
        "print(arreglo,'. Shape =', arreglo.shape, \"\\n\") # \"\\n\" imprime un salto de linea\n",
        "\n",
        "print('Arreglo de (2,n)')\n",
        "arreglo = np.array([[1,2,3,4,5,6],[1,2,3,4,5,6]]) #notar los corchetes extras\n",
        "print(arreglo,'. Shape =', arreglo.shape, \"\\n\")\n",
        "\n",
        "print('Arreglo de (n,1)')\n",
        "arreglo = np.array([[1,2,3,4,5,6]]) #notar los corchetes extras\n",
        "print(arreglo.T,'. Shape =', arreglo.T.shape, \"\\n\")   #notar .T, que significa transpuesto\n"
      ]
    },
    {
      "cell_type": "code",
      "execution_count": null,
      "metadata": {
        "id": "r0vWuRASVg6m"
      },
      "outputs": [],
      "source": [
        "### EXTRA 1###\n",
        "#Trasponer no es la unica forma de crear un arreglo de forma (n,1)'''\n",
        "arreglo = np.array([[1],[2],[3],[4],[5],[6]]) #notar los corchetes extras\n",
        "print(arreglo,'. Shape =', arreglo.shape)   #notar .T, que significa transpuesto"
      ]
    },
    {
      "cell_type": "code",
      "execution_count": null,
      "metadata": {
        "id": "58HzYHFYVg6m",
        "outputId": "6eb0dba1-5b51-421e-8f51-af1c895fa1d7"
      },
      "outputs": [
        {
          "data": {
            "text/plain": [
              "(2, 4)"
            ]
          },
          "execution_count": 43,
          "metadata": {},
          "output_type": "execute_result"
        }
      ],
      "source": [
        "a1 = np.array([[1,2,3,4],[5,6,7,8]])\n",
        "a1.shape"
      ]
    },
    {
      "cell_type": "code",
      "execution_count": null,
      "metadata": {
        "id": "r4ZzTha2Vg6m",
        "outputId": "4dfbac52-d112-45fb-d7c6-9341c037b130"
      },
      "outputs": [
        {
          "data": {
            "text/plain": [
              "(2, 4)"
            ]
          },
          "execution_count": 44,
          "metadata": {},
          "output_type": "execute_result"
        }
      ],
      "source": [
        "a2 = np.array([[1,2,3,4],[5,6,7,8]])\n",
        "a2.shape"
      ]
    },
    {
      "cell_type": "code",
      "execution_count": null,
      "metadata": {
        "id": "hFmjjf5qVg6n",
        "outputId": "85569a99-7de8-4db9-8810-507662be137f"
      },
      "outputs": [
        {
          "data": {
            "text/plain": [
              "(2, 4)"
            ]
          },
          "execution_count": 45,
          "metadata": {},
          "output_type": "execute_result"
        }
      ],
      "source": [
        "a3 = a1 * a2\n",
        "a3.shape"
      ]
    },
    {
      "cell_type": "code",
      "execution_count": null,
      "metadata": {
        "id": "YRnHVriYVg6n",
        "outputId": "ab247029-75ea-436c-a1a1-c625764f64e1"
      },
      "outputs": [
        {
          "data": {
            "text/plain": [
              "array([[ 1,  4,  9, 16],\n",
              "       [25, 36, 49, 64]])"
            ]
          },
          "execution_count": 46,
          "metadata": {},
          "output_type": "execute_result"
        }
      ],
      "source": [
        "a3"
      ]
    },
    {
      "cell_type": "markdown",
      "metadata": {
        "id": "ZWzKzs8dVg6n"
      },
      "source": [
        "**Ejercicio 2**:\n",
        "* Escribir un arreglo con números enteros del 0 al 9. Pista: arange\n",
        "* Escribir un arreglo con 100 números equiespaciados del 0 al 9. Pista: linspace"
      ]
    },
    {
      "cell_type": "markdown",
      "metadata": {
        "id": "rUespqSWVg6n"
      },
      "source": [
        "**Ejercicio 3**:\n",
        "* Escribir un arreglo con números enteros del 10 al 100 y seleccionar aquellos que son divisibles por 3<br>\n",
        "Pista: mask"
      ]
    },
    {
      "cell_type": "markdown",
      "metadata": {
        "id": "nMj1FiZNVg6n"
      },
      "source": [
        "**Ejercicio 4**:\n",
        "* Crear un arreglo de ceros de `shape` (5,10).\n",
        "* Reemplazar la segunda y cuarta fila con unos\n",
        "* Reemplazar la tercera y octava columna con dos (2)."
      ]
    },
    {
      "cell_type": "code",
      "execution_count": 3,
      "metadata": {},
      "outputs": [],
      "source": [
        "zeros = np.zeros((5,10))"
      ]
    },
    {
      "cell_type": "code",
      "execution_count": 4,
      "metadata": {},
      "outputs": [
        {
          "data": {
            "text/plain": [
              "array([[0., 0., 0., 0., 0., 0., 0., 0., 0., 0.],\n",
              "       [0., 0., 0., 0., 0., 0., 0., 0., 0., 0.],\n",
              "       [0., 0., 0., 0., 0., 0., 0., 0., 0., 0.],\n",
              "       [0., 0., 0., 0., 0., 0., 0., 0., 0., 0.],\n",
              "       [0., 0., 0., 0., 0., 0., 0., 0., 0., 0.]])"
            ]
          },
          "execution_count": 4,
          "metadata": {},
          "output_type": "execute_result"
        }
      ],
      "source": [
        "zeros"
      ]
    },
    {
      "cell_type": "code",
      "execution_count": 10,
      "metadata": {},
      "outputs": [],
      "source": [
        "zeros[3], zeros[1] = 1, 1"
      ]
    },
    {
      "cell_type": "code",
      "execution_count": 11,
      "metadata": {},
      "outputs": [
        {
          "data": {
            "text/plain": [
              "array([[0., 0., 0., 0., 0., 0., 0., 0., 0., 0.],\n",
              "       [1., 1., 1., 1., 1., 1., 1., 1., 1., 1.],\n",
              "       [0., 0., 0., 0., 0., 0., 0., 0., 0., 0.],\n",
              "       [1., 1., 1., 1., 1., 1., 1., 1., 1., 1.],\n",
              "       [0., 0., 0., 0., 0., 0., 0., 0., 0., 0.]])"
            ]
          },
          "execution_count": 11,
          "metadata": {},
          "output_type": "execute_result"
        }
      ],
      "source": [
        "zeros"
      ]
    },
    {
      "cell_type": "code",
      "execution_count": 12,
      "metadata": {},
      "outputs": [
        {
          "name": "stdout",
          "output_type": "stream",
          "text": [
            "[[0. 0. 0. 0. 0. 0. 0. 0. 0. 0.]\n",
            " [1. 1. 1. 1. 1. 1. 1. 1. 1. 1.]\n",
            " [0. 0. 0. 0. 0. 0. 0. 0. 0. 0.]\n",
            " [1. 1. 1. 1. 1. 1. 1. 1. 1. 1.]\n",
            " [0. 0. 0. 0. 0. 0. 0. 0. 0. 0.]]\n"
          ]
        }
      ],
      "source": [
        "print(zeros)"
      ]
    },
    {
      "cell_type": "code",
      "execution_count": 14,
      "metadata": {},
      "outputs": [],
      "source": [
        "zeros[:,2], zeros[:,7] = 2, 2"
      ]
    },
    {
      "cell_type": "code",
      "execution_count": 18,
      "metadata": {},
      "outputs": [],
      "source": [
        "zeros[:,[2,7]] = 2"
      ]
    },
    {
      "cell_type": "code",
      "execution_count": 17,
      "metadata": {},
      "outputs": [
        {
          "data": {
            "text/plain": [
              "array([[0., 0., 3., 0., 0., 0., 0., 3., 0., 0.],\n",
              "       [1., 1., 3., 1., 1., 1., 1., 3., 1., 1.],\n",
              "       [0., 0., 3., 0., 0., 0., 0., 3., 0., 0.],\n",
              "       [1., 1., 3., 1., 1., 1., 1., 3., 1., 1.],\n",
              "       [0., 0., 3., 0., 0., 0., 0., 3., 0., 0.]])"
            ]
          },
          "execution_count": 17,
          "metadata": {},
          "output_type": "execute_result"
        }
      ],
      "source": [
        "zeros"
      ]
    },
    {
      "cell_type": "code",
      "execution_count": 15,
      "metadata": {},
      "outputs": [
        {
          "data": {
            "text/plain": [
              "array([[0., 0., 2., 0., 0., 0., 0., 2., 0., 0.],\n",
              "       [1., 1., 2., 1., 1., 1., 1., 2., 1., 1.],\n",
              "       [0., 0., 2., 0., 0., 0., 0., 2., 0., 0.],\n",
              "       [1., 1., 2., 1., 1., 1., 1., 2., 1., 1.],\n",
              "       [0., 0., 2., 0., 0., 0., 0., 2., 0., 0.]])"
            ]
          },
          "execution_count": 15,
          "metadata": {},
          "output_type": "execute_result"
        }
      ],
      "source": [
        "zeros"
      ]
    },
    {
      "cell_type": "markdown",
      "metadata": {
        "id": "csH7DGlQVg6o"
      },
      "source": [
        "**Ejercicio $\\infty$**:\n",
        "Hacer todos los ejercicios que puedan del siguiente link https://www.machinelearningplus.com/python/101-numpy-exercises-python/\n",
        "\n",
        "O de https://github.com/rougier/numpy-100"
      ]
    },
    {
      "cell_type": "markdown",
      "metadata": {
        "id": "0WRQpyHhVg6o"
      },
      "source": [
        "Para explorar las funciones de creación de datos aleatorios:\n",
        "https://numpy.org/doc/stable/reference/random/legacy.html"
      ]
    },
    {
      "cell_type": "code",
      "execution_count": null,
      "metadata": {
        "id": "mtMUBDNQVg6o",
        "outputId": "92840193-2b1a-4e5a-f178-efefbe378dcd"
      },
      "outputs": [
        {
          "data": {
            "text/plain": [
              "array([[[137.12277219, 187.22289567, 153.95764007],\n",
              "        [175.21869487, 188.10311988, 118.02508687]],\n",
              "\n",
              "       [[157.58773537, 166.74585121, 134.96866874],\n",
              "        [128.3807111 , 188.91447629, 150.68622952]],\n",
              "\n",
              "       [[168.77296873, 117.90287547, 115.19825164],\n",
              "        [123.86197814, 172.33144425, 165.7329653 ]],\n",
              "\n",
              "       [[157.35784374, 121.82035838, 100.01848734],\n",
              "        [195.39977874, 188.95736542, 121.54200787]]])"
            ]
          },
          "execution_count": 17,
          "metadata": {},
          "output_type": "execute_result"
        }
      ],
      "source": [
        "a = np.random.random((4,2,3)) * 100 + 100\n",
        "a"
      ]
    },
    {
      "cell_type": "code",
      "execution_count": null,
      "metadata": {
        "id": "OB8mGdYMVg6o"
      },
      "outputs": [],
      "source": [
        "a = np.random.random((4,4))"
      ]
    },
    {
      "cell_type": "code",
      "execution_count": null,
      "metadata": {
        "id": "eSW5Y1p4Vg6o",
        "outputId": "6b866316-2c7f-45cf-e0cd-bce2af9737cf"
      },
      "outputs": [
        {
          "data": {
            "text/plain": [
              "array([[0.48673571, 0.50465005, 0.33227167, 0.86611167],\n",
              "       [0.14502147, 0.13692842, 0.56804006, 0.89177045],\n",
              "       [0.78692331, 0.25942502, 0.88516122, 0.32876297],\n",
              "       [0.78919257, 0.64347772, 0.02402004, 0.66363368]])"
            ]
          },
          "execution_count": 19,
          "metadata": {},
          "output_type": "execute_result"
        }
      ],
      "source": [
        "a"
      ]
    },
    {
      "cell_type": "code",
      "execution_count": null,
      "metadata": {
        "id": "FaGa7e3zVg6p"
      },
      "outputs": [],
      "source": [
        "a = np.array([[10,200,30,45,5,50],[5,20,30,40,50,0],[5,20,30,40,50,0],[5,20,30,40,50,0]], dtype=np.int8)"
      ]
    },
    {
      "cell_type": "code",
      "execution_count": null,
      "metadata": {
        "id": "yNyjkWCrVg6p",
        "outputId": "d5f92c73-886e-43c5-ecf1-9e57ce75522d"
      },
      "outputs": [
        {
          "data": {
            "text/plain": [
              "array([[ 10, 200,  30,  45,   5, 100],\n",
              "       [  5,  20,  30,  40,  50,   0],\n",
              "       [  5,  20,  30,  40,  50,   0],\n",
              "       [  5,  20,  30,  40,  50,   0]], dtype=int16)"
            ]
          },
          "execution_count": 115,
          "metadata": {},
          "output_type": "execute_result"
        }
      ],
      "source": [
        "a"
      ]
    },
    {
      "cell_type": "code",
      "execution_count": null,
      "metadata": {
        "id": "E7MnEeN9Vg6p",
        "outputId": "20f59c09-2764-4399-c10c-bc09725b40ef"
      },
      "outputs": [
        {
          "data": {
            "text/plain": [
              "519"
            ]
          },
          "execution_count": 21,
          "metadata": {},
          "output_type": "execute_result"
        }
      ],
      "source": [
        "a.sum()"
      ]
    },
    {
      "cell_type": "code",
      "execution_count": null,
      "metadata": {
        "id": "EIa0W1WMVg6p",
        "outputId": "1f2890e8-eb59-409a-d958-726f238004d2"
      },
      "outputs": [
        {
          "data": {
            "text/plain": [
              "23.924904214367643"
            ]
          },
          "execution_count": 22,
          "metadata": {},
          "output_type": "execute_result"
        }
      ],
      "source": [
        "a.std()"
      ]
    },
    {
      "cell_type": "code",
      "execution_count": null,
      "metadata": {
        "id": "YxHMXKh4Vg6p"
      },
      "outputs": [],
      "source": [
        "a.sort(axis=1)"
      ]
    },
    {
      "cell_type": "code",
      "execution_count": null,
      "metadata": {
        "id": "vgYcHwUIVg6p",
        "outputId": "4603ae97-0408-401b-d93f-5e13b6e421b0"
      },
      "outputs": [
        {
          "data": {
            "text/plain": [
              "array([[-56,   5,  10,  30,  45,  50],\n",
              "       [  0,   5,  20,  30,  40,  50],\n",
              "       [  0,   5,  20,  30,  40,  50],\n",
              "       [  0,   5,  20,  30,  40,  50]], dtype=int8)"
            ]
          },
          "execution_count": 24,
          "metadata": {},
          "output_type": "execute_result"
        }
      ],
      "source": [
        "a"
      ]
    },
    {
      "cell_type": "code",
      "execution_count": null,
      "metadata": {
        "id": "oHIM6SODVg6q",
        "outputId": "043f7fe4-02ad-4436-c10c-4739f66afb26"
      },
      "outputs": [
        {
          "data": {
            "text/plain": [
              "array([[-56,   5,  10,  30,  40,  50],\n",
              "       [  0,   5,  20,  30,  40,  50],\n",
              "       [  0,   5,  20,  30,  40,  50],\n",
              "       [  0,   5,  20,  30,  45,  50]], dtype=int8)"
            ]
          },
          "execution_count": 25,
          "metadata": {},
          "output_type": "execute_result"
        }
      ],
      "source": [
        "a.sort(axis=0)\n",
        "a"
      ]
    },
    {
      "cell_type": "code",
      "execution_count": null,
      "metadata": {
        "id": "qZegk2ChVg6q",
        "outputId": "198479a0-9f45-4fe6-cf21-4113ab9916ba"
      },
      "outputs": [
        {
          "data": {
            "text/plain": [
              "array([[ 0,  5, 20],\n",
              "       [ 0,  5, 20]], dtype=int8)"
            ]
          },
          "execution_count": 26,
          "metadata": {},
          "output_type": "execute_result"
        }
      ],
      "source": [
        "a[1:3,0:3]"
      ]
    },
    {
      "cell_type": "code",
      "execution_count": null,
      "metadata": {
        "id": "DPHPj5C_Vg6q"
      },
      "outputs": [],
      "source": [
        "l =   [[ 10, 200,  30,  45,   5, 100],\n",
        "       [  5,  20,  30,  40,  50,   0],\n",
        "       [  5,  20,  30,  40,  50,   0],\n",
        "       [  5,  20,  30,  40,  50,   0]]"
      ]
    },
    {
      "cell_type": "code",
      "execution_count": null,
      "metadata": {
        "id": "VbUADsVKVg6q"
      },
      "outputs": [],
      "source": [
        "a = np.array([l])"
      ]
    },
    {
      "cell_type": "code",
      "execution_count": null,
      "metadata": {
        "id": "DrCdZxXRVg6q",
        "outputId": "6cf2fad5-6133-4a9f-84c3-6e0e16dc6b19"
      },
      "outputs": [
        {
          "data": {
            "text/plain": [
              "(1, 4, 6)"
            ]
          },
          "execution_count": 31,
          "metadata": {},
          "output_type": "execute_result"
        }
      ],
      "source": [
        "a.shape"
      ]
    },
    {
      "cell_type": "code",
      "execution_count": null,
      "metadata": {
        "id": "lqoZzzxNVg6q",
        "outputId": "0bb607a9-6a78-489a-ac19-a54fcc3ee945"
      },
      "outputs": [
        {
          "data": {
            "text/plain": [
              "array([ 10, 200,  30,  45,   5, 100,   5,  20,  30,  40,  50,   0,   5,\n",
              "        20,  30,  40,  50,   0,   5,  20,  30,  40,  50,   0])"
            ]
          },
          "execution_count": 32,
          "metadata": {},
          "output_type": "execute_result"
        }
      ],
      "source": [
        "a.reshape(24)"
      ]
    },
    {
      "cell_type": "code",
      "execution_count": null,
      "metadata": {
        "id": "bybjYzmnVg6r",
        "outputId": "4afc926c-6bfe-4c24-9926-36cfe658fadf"
      },
      "outputs": [
        {
          "name": "stdout",
          "output_type": "stream",
          "text": [
            "[[1 2 3 4 5 6]]\n"
          ]
        }
      ],
      "source": [
        "a = np.matrix([[1,2,3,4,5,6]]) \n",
        "print(a) "
      ]
    },
    {
      "cell_type": "code",
      "execution_count": null,
      "metadata": {
        "id": "KUjqaBU5Vg6r",
        "outputId": "10b79eb2-d30e-4a1c-c3fa-02d0a3353ed3"
      },
      "outputs": [
        {
          "name": "stdout",
          "output_type": "stream",
          "text": [
            "[[1]\n",
            " [2]\n",
            " [3]\n",
            " [4]\n",
            " [5]\n",
            " [6]]\n"
          ]
        }
      ],
      "source": [
        "b = np.matrix([[1],[2],[3],[4],[5],[6]]) \n",
        "print(b) "
      ]
    },
    {
      "cell_type": "code",
      "execution_count": null,
      "metadata": {
        "id": "bPPDdXamVg6r",
        "outputId": "81b4baf0-a29e-443d-860d-03e05db56be4"
      },
      "outputs": [
        {
          "name": "stdout",
          "output_type": "stream",
          "text": [
            "[[91]]\n"
          ]
        }
      ],
      "source": [
        "c = a * b \n",
        "print(c) "
      ]
    },
    {
      "cell_type": "code",
      "execution_count": null,
      "metadata": {
        "id": "H0vFPJSOVg6r",
        "outputId": "8ac1a8c4-5c23-4820-d5e9-c2f5c51b8798"
      },
      "outputs": [
        {
          "name": "stdout",
          "output_type": "stream",
          "text": [
            "[[ 1  2  3  4  5  6]\n",
            " [ 2  4  6  8 10 12]\n",
            " [ 3  6  9 12 15 18]\n",
            " [ 4  8 12 16 20 24]\n",
            " [ 5 10 15 20 25 30]\n",
            " [ 6 12 18 24 30 36]]\n"
          ]
        }
      ],
      "source": [
        "d = b * a \n",
        "print(d)"
      ]
    }
  ],
  "metadata": {
    "colab": {
      "provenance": []
    },
    "kernelspec": {
      "display_name": "Python 3",
      "language": "python",
      "name": "python3"
    },
    "language_info": {
      "codemirror_mode": {
        "name": "ipython",
        "version": 3
      },
      "file_extension": ".py",
      "mimetype": "text/x-python",
      "name": "python",
      "nbconvert_exporter": "python",
      "pygments_lexer": "ipython3",
      "version": "3.10.7"
    },
    "vscode": {
      "interpreter": {
        "hash": "a7b37c8bafcd6b9e9a7acc6b32ab4069be78d8bab23671b0badb937ab5195cc5"
      }
    }
  },
  "nbformat": 4,
  "nbformat_minor": 0
}
