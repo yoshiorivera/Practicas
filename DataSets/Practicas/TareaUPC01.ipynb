{
 "cells": [
  {
   "cell_type": "code",
   "execution_count": 20,
   "metadata": {},
   "outputs": [
    {
     "name": "stdout",
     "output_type": "stream",
     "text": [
      "Collecting openpyxl"
     ]
    },
    {
     "name": "stderr",
     "output_type": "stream",
     "text": [
      "\n",
      "[notice] A new release of pip is available: 23.0 -> 23.0.1\n",
      "[notice] To update, run: python.exe -m pip install --upgrade pip\n"
     ]
    },
    {
     "name": "stdout",
     "output_type": "stream",
     "text": [
      "\n",
      "  Downloading openpyxl-3.1.1-py2.py3-none-any.whl (249 kB)\n",
      "     -------------------------------------- 249.8/249.8 kB 5.2 MB/s eta 0:00:00\n",
      "Collecting et-xmlfile\n",
      "  Downloading et_xmlfile-1.1.0-py3-none-any.whl (4.7 kB)\n",
      "Installing collected packages: et-xmlfile, openpyxl\n",
      "Successfully installed et-xmlfile-1.1.0 openpyxl-3.1.1\n"
     ]
    }
   ],
   "source": [
    "!pip install openpyxl"
   ]
  },
  {
   "cell_type": "code",
   "execution_count": 21,
   "metadata": {},
   "outputs": [],
   "source": [
    "import pandas as pd\n",
    "import numpy as np\n",
    "import matplotlib.pyplot as plt\n",
    "import openpyxl"
   ]
  },
  {
   "cell_type": "code",
   "execution_count": 41,
   "metadata": {},
   "outputs": [],
   "source": [
    "# Solicitar información al usuario\n",
    "fecha = input(\"Ingrese la fecha (en formato dd/mm/yyyy): \")\n",
    "maquina = input(\"Ingrese el número de máquina (M1 o M2): \")\n",
    "producto = input(\"Ingrese el nombre del producto (Jamón Ingles, Jamón del País, Jamonada, Salchicha Alemana o Chorizo parrillero): \")\n",
    "tipo_empaque = input(\"Ingrese el tipo de empaque (350 gr, 650 gr o 950 gr): \")\n",
    "empaque_programado = int(input(\"Ingrese la cantidad de empaques programados: \"))\n",
    "empaque_real = int(input(\"Ingrese la cantidad de empaques reales: \"))"
   ]
  },
  {
   "cell_type": "code",
   "execution_count": 34,
   "metadata": {},
   "outputs": [],
   "source": [
    "# Leer datos existentes (si existen)\n",
    "try:\n",
    "    data = pd.read_excel(\"datos_empaque.xlsx\")\n",
    "except FileNotFoundError:\n",
    "    data = pd.DataFrame()"
   ]
  },
  {
   "cell_type": "code",
   "execution_count": 35,
   "metadata": {},
   "outputs": [
    {
     "data": {
      "text/html": [
       "<div>\n",
       "<style scoped>\n",
       "    .dataframe tbody tr th:only-of-type {\n",
       "        vertical-align: middle;\n",
       "    }\n",
       "\n",
       "    .dataframe tbody tr th {\n",
       "        vertical-align: top;\n",
       "    }\n",
       "\n",
       "    .dataframe thead th {\n",
       "        text-align: right;\n",
       "    }\n",
       "</style>\n",
       "<table border=\"1\" class=\"dataframe\">\n",
       "  <thead>\n",
       "    <tr style=\"text-align: right;\">\n",
       "      <th></th>\n",
       "      <th>Fecha</th>\n",
       "      <th>Maquina</th>\n",
       "      <th>Producto</th>\n",
       "      <th>Tipo Empaque</th>\n",
       "      <th>Empaque Programado</th>\n",
       "      <th>Empaque Real</th>\n",
       "      <th>Merma</th>\n",
       "    </tr>\n",
       "  </thead>\n",
       "  <tbody>\n",
       "    <tr>\n",
       "      <th>0</th>\n",
       "      <td>01/12/2022</td>\n",
       "      <td>M1</td>\n",
       "      <td>Jamón Ingles</td>\n",
       "      <td>350</td>\n",
       "      <td>1000</td>\n",
       "      <td>900</td>\n",
       "      <td>100</td>\n",
       "    </tr>\n",
       "    <tr>\n",
       "      <th>1</th>\n",
       "      <td>02/12/2022</td>\n",
       "      <td>M2</td>\n",
       "      <td>Jamón del País</td>\n",
       "      <td>650</td>\n",
       "      <td>1200</td>\n",
       "      <td>950</td>\n",
       "      <td>250</td>\n",
       "    </tr>\n",
       "  </tbody>\n",
       "</table>\n",
       "</div>"
      ],
      "text/plain": [
       "        Fecha Maquina        Producto  Tipo Empaque  Empaque Programado  \\\n",
       "0  01/12/2022      M1    Jamón Ingles           350                1000   \n",
       "1  02/12/2022      M2  Jamón del País           650                1200   \n",
       "\n",
       "   Empaque Real  Merma  \n",
       "0           900    100  \n",
       "1           950    250  "
      ]
     },
     "execution_count": 35,
     "metadata": {},
     "output_type": "execute_result"
    }
   ],
   "source": [
    "data"
   ]
  },
  {
   "cell_type": "code",
   "execution_count": 36,
   "metadata": {},
   "outputs": [
    {
     "name": "stdout",
     "output_type": "stream",
     "text": [
      "Registro exitoso.\n"
     ]
    }
   ],
   "source": [
    "# Validar que no se haya registrado la misma fecha y máquina previamente\n",
    "if not data.empty and ((data[\"Fecha\"] == fecha) & (data[\"Maquina\"] == maquina)).any():\n",
    "    print(\"Ya existe un registro para la fecha y máquina ingresadas.\")\n",
    "else:\n",
    "    # Calcular la merma\n",
    "    merma = empaque_programado - empaque_real\n",
    "\n",
    "    # Agregar nueva fila a los datos existentes\n",
    "    nueva_fila = pd.DataFrame({\n",
    "        \"Fecha\": [fecha],\n",
    "        \"Maquina\": [maquina],\n",
    "        \"Producto\": [producto],\n",
    "        \"Tipo Empaque\": [tipo_empaque],\n",
    "        \"Empaque Programado\": [empaque_programado],\n",
    "        \"Empaque Real\": [empaque_real],\n",
    "        \"Merma\": [merma]\n",
    "    })\n",
    "    data = pd.concat([data, nueva_fila], ignore_index=True)\n",
    "\n",
    "    # Guardar los datos actualizados en un archivo Excel\n",
    "    #data.to_excel(\"datos_empaque.xlsx\", index=False)\n",
    "\n",
    "    print(\"Registro exitoso.\")"
   ]
  },
  {
   "cell_type": "code",
   "execution_count": 37,
   "metadata": {},
   "outputs": [
    {
     "data": {
      "text/html": [
       "<div>\n",
       "<style scoped>\n",
       "    .dataframe tbody tr th:only-of-type {\n",
       "        vertical-align: middle;\n",
       "    }\n",
       "\n",
       "    .dataframe tbody tr th {\n",
       "        vertical-align: top;\n",
       "    }\n",
       "\n",
       "    .dataframe thead th {\n",
       "        text-align: right;\n",
       "    }\n",
       "</style>\n",
       "<table border=\"1\" class=\"dataframe\">\n",
       "  <thead>\n",
       "    <tr style=\"text-align: right;\">\n",
       "      <th></th>\n",
       "      <th>Fecha</th>\n",
       "      <th>Maquina</th>\n",
       "      <th>Producto</th>\n",
       "      <th>Tipo Empaque</th>\n",
       "      <th>Empaque Programado</th>\n",
       "      <th>Empaque Real</th>\n",
       "      <th>Merma</th>\n",
       "    </tr>\n",
       "  </thead>\n",
       "  <tbody>\n",
       "    <tr>\n",
       "      <th>0</th>\n",
       "      <td>01/12/2022</td>\n",
       "      <td>M1</td>\n",
       "      <td>Jamón Ingles</td>\n",
       "      <td>350</td>\n",
       "      <td>1000</td>\n",
       "      <td>900</td>\n",
       "      <td>100</td>\n",
       "    </tr>\n",
       "    <tr>\n",
       "      <th>1</th>\n",
       "      <td>02/12/2022</td>\n",
       "      <td>M2</td>\n",
       "      <td>Jamón del País</td>\n",
       "      <td>650</td>\n",
       "      <td>1200</td>\n",
       "      <td>950</td>\n",
       "      <td>250</td>\n",
       "    </tr>\n",
       "    <tr>\n",
       "      <th>2</th>\n",
       "      <td>03/12/2022</td>\n",
       "      <td>M1</td>\n",
       "      <td>Salchicha Alemana</td>\n",
       "      <td>350</td>\n",
       "      <td>2500</td>\n",
       "      <td>700</td>\n",
       "      <td>1800</td>\n",
       "    </tr>\n",
       "  </tbody>\n",
       "</table>\n",
       "</div>"
      ],
      "text/plain": [
       "        Fecha Maquina           Producto Tipo Empaque  Empaque Programado  \\\n",
       "0  01/12/2022      M1       Jamón Ingles          350                1000   \n",
       "1  02/12/2022      M2     Jamón del País          650                1200   \n",
       "2  03/12/2022      M1  Salchicha Alemana          350                2500   \n",
       "\n",
       "   Empaque Real  Merma  \n",
       "0           900    100  \n",
       "1           950    250  \n",
       "2           700   1800  "
      ]
     },
     "execution_count": 37,
     "metadata": {},
     "output_type": "execute_result"
    }
   ],
   "source": [
    "data"
   ]
  },
  {
   "cell_type": "code",
   "execution_count": 38,
   "metadata": {},
   "outputs": [
    {
     "name": "stdout",
     "output_type": "stream",
     "text": [
      "\n",
      "Lista de registros:\n",
      "     Fecha Maquina          Producto Tipo Empaque  Empaque Programado  Empaque Real  Merma\n",
      "01/12/2022      M1      Jamón Ingles          350                1000           900    100\n",
      "02/12/2022      M2    Jamón del País          650                1200           950    250\n",
      "03/12/2022      M1 Salchicha Alemana          350                2500           700   1800\n"
     ]
    }
   ],
   "source": [
    "# Mostrar lista de todos los registros\n",
    "print(\"\\nLista de registros:\")\n",
    "print(data.to_string(index=False))"
   ]
  },
  {
   "cell_type": "code",
   "execution_count": 39,
   "metadata": {},
   "outputs": [
    {
     "name": "stdout",
     "output_type": "stream",
     "text": [
      "\n",
      "Análisis estadístico descriptivo:\n",
      "       Empaque Programado  Empaque Real        Merma\n",
      "count            3.000000      3.000000     3.000000\n",
      "mean          1566.666667    850.000000   716.666667\n",
      "std            814.452782    132.287566   941.187194\n",
      "min           1000.000000    700.000000   100.000000\n",
      "25%           1100.000000    800.000000   175.000000\n",
      "50%           1200.000000    900.000000   250.000000\n",
      "75%           1850.000000    925.000000  1025.000000\n",
      "max           2500.000000    950.000000  1800.000000\n"
     ]
    }
   ],
   "source": [
    "# Análisis estadístico descriptivo\n",
    "print(\"\\nAnálisis estadístico descriptivo:\")\n",
    "print(data.describe())"
   ]
  },
  {
   "cell_type": "code",
   "execution_count": 40,
   "metadata": {},
   "outputs": [
    {
     "data": {
      "image/png": "[encoded data removed]",
      "text/plain": [
       "<Figure size 640x480 with 1 Axes>"
      ]
     },
     "metadata": {},
     "output_type": "display_data"
    }
   ],
   "source": [
    "# Gráficos de efectividad de trabajo de las máquinas en el tiempo\n",
    "datos_m1 = data[data[\"Maquina\"] == \"M1\"]\n",
    "datos_m2 = data[data[\"Maquina\"] == \"M2\"]\n",
    "\n",
    "plt.plot(datos_m1[\"Fecha\"], datos_m1[\"Empaque Real\"], label=\"M1\")\n",
    "plt.plot(datos_m2[\"Fecha\"], datos_m2[\"Empaque Real\"], label=\"M2\")\n",
    "plt.legend()\n",
    "plt.title(\"Efectividad de trabajo de las máquinas\")\n",
    "plt.xlabel(\"Fecha\")\n",
    "plt.ylabel(\"Empaques reales\")\n",
    "plt.show()"
   ]
  },
  {
   "cell_type": "code",
   "execution_count": 31,
   "metadata": {},
   "outputs": [],
   "source": [
    "# Guardar los datos actualizados en un archivo CSV\n",
    "data.to_csv(\"datos_empaque.csv\", index=False)"
   ]
  },
  {
   "cell_type": "code",
   "execution_count": 42,
   "metadata": {},
   "outputs": [],
   "source": [
    "# Guardar los datos actualizados en un archivo Excel\n",
    "data.to_excel('datos_empaque.xlsx', index=False)"
   ]
  }
 ],
 "metadata": {
  "kernelspec": {
   "display_name": "Python 3",
   "language": "python",
   "name": "python3"
  },
  "language_info": {
   "codemirror_mode": {
    "name": "ipython",
    "version": 3
   },
   "file_extension": ".py",
   "mimetype": "text/x-python",
   "name": "python",
   "nbconvert_exporter": "python",
   "pygments_lexer": "ipython3",
   "version": "3.10.7"
  },
  "orig_nbformat": 4,
  "vscode": {
   "interpreter": {
    "hash": "a7b37c8bafcd6b9e9a7acc6b32ab4069be78d8bab23671b0badb937ab5195cc5"
   }
  }
 },
 "nbformat": 4,
 "nbformat_minor": 2
}
