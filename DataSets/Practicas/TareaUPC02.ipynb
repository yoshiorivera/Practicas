{
 "cells": [
  {
   "cell_type": "code",
   "execution_count": 110,
   "metadata": {},
   "outputs": [],
   "source": [
    "import pandas as pd\n",
    "import matplotlib.pyplot as plt\n",
    "from datetime import datetime"
   ]
  },
  {
   "attachments": {},
   "cell_type": "markdown",
   "metadata": {},
   "source": [
    "El programa debe permitir al usuario ingresar la información necesaria para registrar los resultados del proceso de empaque de la planta por día, validar que no se registre la misma información para una fecha y máquina ya registrada, y calcular la merma."
   ]
  },
  {
   "cell_type": "code",
   "execution_count": 111,
   "metadata": {},
   "outputs": [],
   "source": [
    "# Función para calcular la merma\n",
    "def calcular_merma(empaque_programado, empaque_real):\n",
    "    return empaque_programado - empaque_real"
   ]
  },
  {
   "cell_type": "code",
   "execution_count": 121,
   "metadata": {},
   "outputs": [],
   "source": [
    "# Función para el cargado de archivos\n",
    "def cargar_archivo():\n",
    "    try:\n",
    "        df = pd.read_excel('resultados.xlsx')\n",
    "    except FileNotFoundError:\n",
    "        df = pd.DataFrame(columns=['Fecha', 'Maquina', 'Producto', 'Tipo Empaque', 'Empaque Programado', 'Empaque Real', 'Merma'])\n",
    "    \n",
    "    return df"
   ]
  },
  {
   "cell_type": "code",
   "execution_count": 112,
   "metadata": {},
   "outputs": [],
   "source": [
    "# Función para solicitar información y validar que no se repita el registro\n",
    "def registrar_resultados():\n",
    "    # Leer el archivo excel de resultados previos\n",
    "    df = cargar_archivo()\n",
    "    \n",
    "    # Pedir al usuario la información necesaria\n",
    "    while True:\n",
    "        fecha = input('Ingrese la fecha (YYYY-MM-DD): ')\n",
    "        maquina = input('Ingrese el número de máquina (M1 o M2): ')\n",
    "        while (maquina not in ['M1', 'M2']):\n",
    "            maquina = input('Reingrese el número de máquina (M1 o M2)')\n",
    "        if not df.empty:\n",
    "            # Validar que no se repita el registro para una fecha y máquina determinadas\n",
    "            registro_existente = df[(df['Fecha'] == fecha) & (df['Maquina'] == maquina)]\n",
    "            if not registro_existente.empty:\n",
    "                print('Ya existe un registro para esa fecha y máquina. Inténtelo de nuevo.')\n",
    "                continue\n",
    "\n",
    "        # Mejora del código con bucles si en todo caso el usuario no ingresa el nombre del producto y tipo de empaque correcto.\n",
    "        producto = input('Ingrese el nombre del producto (Jamón Ingles, Jamón del País, Jamonada, Salchicha Alemana o Chorizo parrillero): ')\n",
    "        lista_productos = ['Jamón Ingles', 'Jamón del País', 'Jamonada', 'Salchicha Alemana', 'Chorizo parrillero']\n",
    "        while (producto not in lista_productos):\n",
    "            producto = input('Reingrese el nombre del producto (Jamón Ingles, Jamón del País, Jamonada, Salchicha Alemana o Chorizo parrillero): ')                        \n",
    "        \n",
    "        tipo_empaque = input('Ingrese el tipo de empaque (350 gr, 650 gr o 950 gr): ')\n",
    "        lista_tipo_empaque = ['350 gr', '650 gr', '950 gr']\n",
    "        while (tipo_empaque not in lista_tipo_empaque):\n",
    "            tipo_empaque = input('Reingrese el tipo de empaque (350 gr, 650 gr o 950 gr): ')\n",
    "\n",
    "        # Si en todo caso el empaque_real es mayor que el empaque_programado\n",
    "        empaque_programado = int(input('Ingrese el empaque programado: '))\n",
    "        empaque_real = int(input('Ingrese el empaque real: '))\n",
    "\n",
    "        while not (empaque_real < empaque_programado):\n",
    "            empaque_programado = int(input('Reingrese el empaque programado: '))\n",
    "            empaque_real = int(input('Reingrese el empaque real: '))\n",
    "\n",
    "        # Calcular la merma\n",
    "        merma = calcular_merma(empaque_programado, empaque_real)\n",
    "        \n",
    "        # Agregar el registro al DataFrame\n",
    "        registro_df = pd.DataFrame({'Fecha': [fecha], 'Maquina': [maquina], 'Producto': [producto], 'Tipo Empaque': [tipo_empaque], 'Empaque Programado': [empaque_programado], 'Empaque Real': [empaque_real], 'Merma': [merma]})\n",
    "        df = pd.concat([df,registro_df], ignore_index=True)\n",
    "        \n",
    "        # Guardar el DataFrame en el archivo xlsx(Excel)\n",
    "        df.to_excel('resultados.xlsx', index=False)\n",
    "                \n",
    "        break\n",
    "   "
   ]
  },
  {
   "cell_type": "code",
   "execution_count": 126,
   "metadata": {},
   "outputs": [],
   "source": [
    "# Función para mostrar en pantalla un listado de toda la información registrada\n",
    "def mostrar_resultados():\n",
    "    df = cargar_archivo()\n",
    "    return df"
   ]
  },
  {
   "cell_type": "code",
   "execution_count": 127,
   "metadata": {},
   "outputs": [],
   "source": [
    "# Función para mostrar un análisis estadístico descriptivo del proceso de empaque\n",
    "def mostrar_analisis_estadistico():\n",
    "    df = cargar_archivo()\n",
    "    return df.describe()  \n",
    "    "
   ]
  },
  {
   "cell_type": "code",
   "execution_count": 128,
   "metadata": {},
   "outputs": [],
   "source": [
    "# Mostrar gráficos para comparar la efectividad de trabajo de las máquinas en el tiempo\n",
    "def mostrar_graficos_efectividad():\n",
    "    # Cargar los datos de las máquinas\n",
    "    df = cargar_archivo()\n",
    "    \n",
    "    # Grafico de efectividad de trabajo de las máquinas\n",
    "    maquinas = df['Maquina'].unique()\n",
    "    \n",
    "    for maquina in maquinas:\n",
    "        datos_maquina = df[df['Maquina'] == maquina]\n",
    "        plt.plot(datos_maquina['Fecha'], datos_maquina['Empaque Real'], label=maquina)\n",
    "    plt.legend()\n",
    "    plt.xlabel('Fecha')\n",
    "    plt.ylabel('Empaque Real')\n",
    "    # Mostrar el gráfico\n",
    "    plt.show()"
   ]
  },
  {
   "cell_type": "code",
   "execution_count": 133,
   "metadata": {},
   "outputs": [],
   "source": [
    "# Llamado de la función para registrar los resultados\n",
    "registrar_resultados()"
   ]
  },
  {
   "cell_type": "code",
   "execution_count": 134,
   "metadata": {},
   "outputs": [
    {
     "data": {
      "text/html": [
       "<div>\n",
       "<style scoped>\n",
       "    .dataframe tbody tr th:only-of-type {\n",
       "        vertical-align: middle;\n",
       "    }\n",
       "\n",
       "    .dataframe tbody tr th {\n",
       "        vertical-align: top;\n",
       "    }\n",
       "\n",
       "    .dataframe thead th {\n",
       "        text-align: right;\n",
       "    }\n",
       "</style>\n",
       "<table border=\"1\" class=\"dataframe\">\n",
       "  <thead>\n",
       "    <tr style=\"text-align: right;\">\n",
       "      <th></th>\n",
       "      <th>Fecha</th>\n",
       "      <th>Maquina</th>\n",
       "      <th>Producto</th>\n",
       "      <th>Tipo Empaque</th>\n",
       "      <th>Empaque Programado</th>\n",
       "      <th>Empaque Real</th>\n",
       "      <th>Merma</th>\n",
       "    </tr>\n",
       "  </thead>\n",
       "  <tbody>\n",
       "    <tr>\n",
       "      <th>0</th>\n",
       "      <td>01/12/2022</td>\n",
       "      <td>M1</td>\n",
       "      <td>Jamón Ingles</td>\n",
       "      <td>350 gr</td>\n",
       "      <td>1000</td>\n",
       "      <td>900</td>\n",
       "      <td>100</td>\n",
       "    </tr>\n",
       "    <tr>\n",
       "      <th>1</th>\n",
       "      <td>02/12/2022</td>\n",
       "      <td>M2</td>\n",
       "      <td>Jamonada</td>\n",
       "      <td>650 gr</td>\n",
       "      <td>900</td>\n",
       "      <td>800</td>\n",
       "      <td>100</td>\n",
       "    </tr>\n",
       "    <tr>\n",
       "      <th>2</th>\n",
       "      <td>03/12/2022</td>\n",
       "      <td>M2</td>\n",
       "      <td>Salchicha Alemana</td>\n",
       "      <td>950 gr</td>\n",
       "      <td>1900</td>\n",
       "      <td>1800</td>\n",
       "      <td>100</td>\n",
       "    </tr>\n",
       "    <tr>\n",
       "      <th>3</th>\n",
       "      <td>04/12/2022</td>\n",
       "      <td>M1</td>\n",
       "      <td>Chorizo parrillero</td>\n",
       "      <td>950 gr</td>\n",
       "      <td>1700</td>\n",
       "      <td>1500</td>\n",
       "      <td>200</td>\n",
       "    </tr>\n",
       "  </tbody>\n",
       "</table>\n",
       "</div>"
      ],
      "text/plain": [
       "        Fecha Maquina            Producto Tipo Empaque  Empaque Programado  \\\n",
       "0  01/12/2022      M1        Jamón Ingles       350 gr                1000   \n",
       "1  02/12/2022      M2            Jamonada       650 gr                 900   \n",
       "2  03/12/2022      M2   Salchicha Alemana       950 gr                1900   \n",
       "3  04/12/2022      M1  Chorizo parrillero       950 gr                1700   \n",
       "\n",
       "   Empaque Real  Merma  \n",
       "0           900    100  \n",
       "1           800    100  \n",
       "2          1800    100  \n",
       "3          1500    200  "
      ]
     },
     "execution_count": 134,
     "metadata": {},
     "output_type": "execute_result"
    }
   ],
   "source": [
    "# Llamado de la función para mostrar los resultados\n",
    "mostrar_resultados()"
   ]
  },
  {
   "cell_type": "code",
   "execution_count": 135,
   "metadata": {},
   "outputs": [
    {
     "data": {
      "text/html": [
       "<div>\n",
       "<style scoped>\n",
       "    .dataframe tbody tr th:only-of-type {\n",
       "        vertical-align: middle;\n",
       "    }\n",
       "\n",
       "    .dataframe tbody tr th {\n",
       "        vertical-align: top;\n",
       "    }\n",
       "\n",
       "    .dataframe thead th {\n",
       "        text-align: right;\n",
       "    }\n",
       "</style>\n",
       "<table border=\"1\" class=\"dataframe\">\n",
       "  <thead>\n",
       "    <tr style=\"text-align: right;\">\n",
       "      <th></th>\n",
       "      <th>Empaque Programado</th>\n",
       "      <th>Empaque Real</th>\n",
       "      <th>Merma</th>\n",
       "    </tr>\n",
       "  </thead>\n",
       "  <tbody>\n",
       "    <tr>\n",
       "      <th>count</th>\n",
       "      <td>4.000000</td>\n",
       "      <td>4.000000</td>\n",
       "      <td>4.0</td>\n",
       "    </tr>\n",
       "    <tr>\n",
       "      <th>mean</th>\n",
       "      <td>1375.000000</td>\n",
       "      <td>1250.000000</td>\n",
       "      <td>125.0</td>\n",
       "    </tr>\n",
       "    <tr>\n",
       "      <th>std</th>\n",
       "      <td>499.165971</td>\n",
       "      <td>479.583152</td>\n",
       "      <td>50.0</td>\n",
       "    </tr>\n",
       "    <tr>\n",
       "      <th>min</th>\n",
       "      <td>900.000000</td>\n",
       "      <td>800.000000</td>\n",
       "      <td>100.0</td>\n",
       "    </tr>\n",
       "    <tr>\n",
       "      <th>25%</th>\n",
       "      <td>975.000000</td>\n",
       "      <td>875.000000</td>\n",
       "      <td>100.0</td>\n",
       "    </tr>\n",
       "    <tr>\n",
       "      <th>50%</th>\n",
       "      <td>1350.000000</td>\n",
       "      <td>1200.000000</td>\n",
       "      <td>100.0</td>\n",
       "    </tr>\n",
       "    <tr>\n",
       "      <th>75%</th>\n",
       "      <td>1750.000000</td>\n",
       "      <td>1575.000000</td>\n",
       "      <td>125.0</td>\n",
       "    </tr>\n",
       "    <tr>\n",
       "      <th>max</th>\n",
       "      <td>1900.000000</td>\n",
       "      <td>1800.000000</td>\n",
       "      <td>200.0</td>\n",
       "    </tr>\n",
       "  </tbody>\n",
       "</table>\n",
       "</div>"
      ],
      "text/plain": [
       "       Empaque Programado  Empaque Real  Merma\n",
       "count            4.000000      4.000000    4.0\n",
       "mean          1375.000000   1250.000000  125.0\n",
       "std            499.165971    479.583152   50.0\n",
       "min            900.000000    800.000000  100.0\n",
       "25%            975.000000    875.000000  100.0\n",
       "50%           1350.000000   1200.000000  100.0\n",
       "75%           1750.000000   1575.000000  125.0\n",
       "max           1900.000000   1800.000000  200.0"
      ]
     },
     "execution_count": 135,
     "metadata": {},
     "output_type": "execute_result"
    }
   ],
   "source": [
    "# Llamado de la función para el análisis estadístico del proceso de empaque\n",
    "mostrar_analisis_estadistico()"
   ]
  },
  {
   "cell_type": "code",
   "execution_count": 136,
   "metadata": {},
   "outputs": [
    {
     "data": {
      "image/png": "[encoded data removed]",
      "text/plain": [
       "<Figure size 640x480 with 1 Axes>"
      ]
     },
     "metadata": {},
     "output_type": "display_data"
    }
   ],
   "source": [
    "# Llamado de la función para mostrar el gráfico de efectividad\n",
    "mostrar_graficos_efectividad()"
   ]
  }
 ],
 "metadata": {
  "kernelspec": {
   "display_name": "Python 3",
   "language": "python",
   "name": "python3"
  },
  "language_info": {
   "codemirror_mode": {
    "name": "ipython",
    "version": 3
   },
   "file_extension": ".py",
   "mimetype": "text/x-python",
   "name": "python",
   "nbconvert_exporter": "python",
   "pygments_lexer": "ipython3",
   "version": "3.10.7"
  },
  "orig_nbformat": 4,
  "vscode": {
   "interpreter": {
    "hash": "a7b37c8bafcd6b9e9a7acc6b32ab4069be78d8bab23671b0badb937ab5195cc5"
   }
  }
 },
 "nbformat": 4,
 "nbformat_minor": 2
}
